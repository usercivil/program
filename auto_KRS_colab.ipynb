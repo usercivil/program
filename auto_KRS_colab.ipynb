{
  "nbformat": 4,
  "nbformat_minor": 0,
  "metadata": {
    "colab": {
      "provenance": [],
      "include_colab_link": true
    },
    "kernelspec": {
      "name": "python3",
      "display_name": "Python 3"
    },
    "language_info": {
      "name": "python"
    }
  },
  "cells": [
    {
      "cell_type": "markdown",
      "metadata": {
        "id": "view-in-github",
        "colab_type": "text"
      },
      "source": [
        "<a href=\"https://colab.research.google.com/github/usercivil/program/blob/main/auto_KRS_colab.ipynb\" target=\"_parent\"><img src=\"https://colab.research.google.com/assets/colab-badge.svg\" alt=\"Open In Colab\"/></a>"
      ]
    },
    {
      "cell_type": "code",
      "execution_count": 3,
      "metadata": {
        "id": "jMBYfRmB0fbO",
        "colab": {
          "base_uri": "https://localhost:8080/"
        },
        "outputId": "159a219f-2764-49c3-ceed-4af71dfbbea6"
      },
      "outputs": [
        {
          "output_type": "stream",
          "name": "stdout",
          "text": [
            "fatal: destination path 'program' already exists and is not an empty directory.\n"
          ]
        }
      ],
      "source": [
        "!git clone https://github.com/usercivil/program.git "
      ]
    },
    {
      "cell_type": "code",
      "source": [
        "%cd program\n",
        "!bash auto_KRS.sh\n",
        "import auto_KRS"
      ],
      "metadata": {
        "colab": {
          "base_uri": "https://localhost:8080/"
        },
        "id": "q509YekGpFy5",
        "outputId": "8e4ef929-e03c-458e-baf9-0754978593b3"
      },
      "execution_count": 4,
      "outputs": [
        {
          "output_type": "stream",
          "name": "stdout",
          "text": [
            "/content/program\n",
            "Warning: apt-key output should not be parsed (stdout is not a terminal)\n",
            "Warning: apt-key output should not be parsed (stdout is not a terminal)\n",
            "Warning: apt-key output should not be parsed (stdout is not a terminal)\n"
          ]
        }
      ]
    },
    {
      "cell_type": "code",
      "source": [
        "#author: Defit Tri H\n",
        "username = 'username Simaster'\n",
        "password = 'password Simaster'\n",
        "matkul_kelas = [['TKSS213201',2],  ['TKSS213106',2]]\n",
        "\n",
        "auto_KRS = auto_KRS.auto_KRS()\n",
        "auto_KRS.login(username, password)\n",
        "auto_KRS.display_login_capt()\n"
      ],
      "metadata": {
        "id": "3thYmRIg7goc",
        "colab": {
          "base_uri": "https://localhost:8080/",
          "height": 152
        },
        "outputId": "9e60cf4c-9a55-4238-fa2c-3133e1ec3a60"
      },
      "execution_count": null,
      "outputs": [
        {
          "output_type": "stream",
          "name": "stdout",
          "text": [
            "chrome is opened successfully\n"
          ]
        },
        {
          "output_type": "display_data",
          "data": {
            "text/plain": [
              "<Figure size 432x288 with 1 Axes>"
            ],
            "image/png": "[encoded data removed]"
          },
          "metadata": {
            "needs_background": "light"
          }
        }
      ]
    },
    {
      "cell_type": "code",
      "source": [
        "auto_KRS.solve_login_capt()\n",
        "auto_KRS.open_KRS_page()\n",
        "# auto_KRS.war_KRS(matkul_kelas)"
      ],
      "metadata": {
        "colab": {
          "base_uri": "https://localhost:8080/"
        },
        "id": "aeKYSxtdRDOP",
        "outputId": "c5f87f0c-eda3-4dc2-fbd6-0503abe05f57"
      },
      "execution_count": null,
      "outputs": [
        {
          "name": "stdout",
          "output_type": "stream",
          "text": [
            "solve captcha: 556\n"
          ]
        }
      ]
    },
    {
      "cell_type": "code",
      "source": [
        "auto_KRS.save_screenshot('simaster.png')"
      ],
      "metadata": {
        "id": "L96oocFPN1Vn"
      },
      "execution_count": null,
      "outputs": []
    },
    {
      "cell_type": "code",
      "source": [
        "auto_KRS.close()\n"
      ],
      "metadata": {
        "id": "7uFu67x84jgV"
      },
      "execution_count": null,
      "outputs": []
    }
  ]
}
