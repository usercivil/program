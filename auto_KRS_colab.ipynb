{
  "nbformat": 4,
  "nbformat_minor": 0,
  "metadata": {
    "colab": {
      "name": "auto-KRS-colab.ipynb",
      "provenance": [],
      "collapsed_sections": [],
      "include_colab_link": true
    },
    "kernelspec": {
      "name": "python3",
      "display_name": "Python 3"
    },
    "language_info": {
      "name": "python"
    }
  },
  "cells": [
    {
      "cell_type": "markdown",
      "metadata": {
        "id": "view-in-github",
        "colab_type": "text"
      },
      "source": [
        "<a href=\"https://colab.research.google.com/github/defittri01/auto-KRS/blob/main/auto_KRS_colab.ipynb\" target=\"_parent\"><img src=\"https://colab.research.google.com/assets/colab-badge.svg\" alt=\"Open In Colab\"/></a>"
      ]
    },
    {
      "cell_type": "code",
      "execution_count": null,
      "metadata": {
        "id": "jMBYfRmB0fbO"
      },
      "outputs": [],
      "source": [
        "!pip install selenium\n",
        "!apt-get update # to update ubuntu to correctly run apt install\n",
        "!apt install chromium-chromedriver\n",
        "!cp /usr/lib/chromium-browser/chromedriver /usr/bin\n",
        "\n",
        "!sudo apt install tesseract-ocr\n",
        "!pip install pytesseract\n",
        "!pip install Pillow==9.1.1"
      ]
    },
    {
      "cell_type": "code",
      "source": [
        "#author Defit Tri H.\n",
        "\n",
        "from selenium import webdriver\n",
        "from selenium.webdriver.common.keys import Keys\n",
        "# from selenium.webdriver.chrome.options import Options\n",
        "from selenium.webdriver.edge.options import Options\n",
        "from selenium.webdriver.support.ui import WebDriverWait\n",
        "from selenium.webdriver.common.by import By\n",
        "from selenium.webdriver.support import expected_conditions as EC\n",
        "import os, glob, cv2, time, sys\n",
        "import numpy as np\n",
        "import pytesseract\n",
        "from PIL import Image\n",
        "import matplotlib.pyplot as plt\n",
        "\n",
        "# pytesseract.pytesseract.tesseract_cmd = folder_tesseract\n",
        "\n",
        "class auto_KRS():\n",
        "  def __init__(self):\n",
        "    sys.path.insert(0,'/usr/lib/chromium-browser/chromedriver')\n",
        "\n",
        "    chrome_options = webdriver.ChromeOptions()\n",
        "    chrome_options.add_argument(\"--headless\")\n",
        "    # chrome_options.headless = False\n",
        "    # chrome_options.add_argument(\"start-maximized\")\n",
        "    chrome_options.add_argument('--no-sandbox')\n",
        "\n",
        "    self.driver = webdriver.Chrome('/usr/lib/chromium-browser/chromedriver', options=chrome_options)\n",
        "\n",
        "    try:\n",
        "      self.driver.get('https://simaster.ugm.ac.id/ugmfw/signin_simaster/signin_proses')\n",
        "      self.driver.save_screenshot('simaster.png')\n",
        "      print('chrome is opened successfully')\n",
        "    except:\n",
        "      print('failed to open chrome browser')\n",
        "\n",
        "  def login(self, username, password):  \n",
        "    username_box = self.driver.find_element(\"xpath\", '//*[@id=\"username\"]')\n",
        "    username_box.send_keys(username)\n",
        "\n",
        "    password_box = self.driver.find_element(\"xpath\", '//*[@id=\"password\"]')\n",
        "    password_box.send_keys(password)\n",
        "\n",
        "    button = self.driver.find_element(\"xpath\", '//*[@type=\"submit\"]')\n",
        "    button.click()\n",
        "\n",
        "  def display_login_capt(self):\n",
        "    self.driver.save_screenshot('captcha_login.png')\n",
        "    captcha_login = cv2.imread('captcha_login.png')\n",
        "    captcha_login = np.array(captcha_login)\n",
        "    captcha_login = captcha_login[140:195, 380:600, :]  # crop captcha\n",
        "    captcha_login[captcha_login >180] = 255             # remove noise\n",
        "    cv2.imwrite('captcha_login.png', captcha_login)\n",
        "    plt.imshow(captcha_login)\n",
        "\n",
        "  def solve_login_capt(self):\n",
        "    captcha = input (\"solve captcha: \")\n",
        "\n",
        "    captcha_box = self.driver.find_element(\"xpath\", '//*[@name=\"captcha\"]')\n",
        "    captcha_box.send_keys(captcha)\n",
        "\n",
        "    button = self.driver.find_element(\"xpath\", '//*[@type=\"submit\"]')\n",
        "    button.click()\n",
        "\n",
        "  def open_KRS_page(self):\n",
        "    self.driver.get('https://simaster.ugm.ac.id/sia_krs/input_krs/')\n",
        "    button = self.driver.find_element(\"xpath\", '//*[@class=\"btn btn-warning btn-sm\"]')\n",
        "    button.click()\n",
        "\n",
        "  def save_screenshot(self, filename):\n",
        "    self.driver.save_screenshot(filename)\n",
        "  \n",
        "  def close(self):\n",
        "    self.driver.close()\n",
        "\n",
        "  def get_string(self, img_path):\n",
        "    # Read image with opencv\n",
        "    img = cv2.imread(img_path)\n",
        "\n",
        "    # Convert to gray\n",
        "    img = cv2.cvtColor(img, cv2.COLOR_BGR2GRAY)\n",
        "\n",
        "    # Apply dilation and erosion to remove some noise\n",
        "    kernel = np.ones((1, 1), np.uint8)\n",
        "    img = cv2.dilate(img, kernel, iterations=1)\n",
        "    img = cv2.erode(img, kernel, iterations=1)\n",
        "\n",
        "    # Write image after removed noise\n",
        "    cv2.imwrite(\"removed_noise.png\", img)\n",
        "\n",
        "    #  Apply threshold to get image with only black and white\n",
        "    #img = cv2.adaptiveThreshold(img, 255, cv2.ADAPTIVE_THRESH_GAUSSIAN_C, cv2.THRESH_BINARY, 31, 2)\n",
        "\n",
        "    # Write the image after apply opencv to do some ...\n",
        "    cv2.imwrite(img_path, img)\n",
        "\n",
        "    # Recognize text with tesseract for python\n",
        "    result = pytesseract.image_to_string(Image.open(img_path))\n",
        "\n",
        "    # Remove template file\n",
        "    #os.remove(temp)\n",
        "\n",
        "    return result\n",
        "\n",
        "  def captcha(self):\n",
        "    # web screenshot\n",
        "    output = 'output.png'\n",
        "    self.driver.save_screenshot(output)\n",
        "\n",
        "    # img to numpy array\n",
        "    capt = cv2.imread(output)\n",
        "    capt = np.array(capt)\n",
        "\n",
        "    # crop\n",
        "    # capt_crop = capt[ 130:160, 780:865, :]\n",
        "    cv2.imwrite('output.png', capt)\n",
        "    # plt.imshow(capt_crop)\n",
        "\n",
        "    # image to string OCR\n",
        "    capt_str = self.get_string('output.png')\n",
        "\n",
        "    # filter int from string\n",
        "    capt_num = ''\n",
        "    numbers = [str(word) for word in capt_str if word.isdigit()]\n",
        "    capt_num = capt_num.join(numbers)\n",
        "    \n",
        "    try:\n",
        "        # fill captcha\n",
        "    #     capt_form = self.driver.find_element_by_xpath('//*[@id=\"grid-input-2\"]')\n",
        "        capt_form = self.driver.find_element(\"xpath\", '//*[@id=\"grid-input-2\"]')\n",
        "        capt_form.send_keys(capt_num)\n",
        "\n",
        "        # click submit buttom\n",
        "    #     submit_but = self.driver.find_element_by_xpath('//*[@id=\"f_captcha\"]/div[2]/div[1]/button[1]')\n",
        "        submit_but = self.driver.find_element(\"xpath\", '//*[@id=\"f_captcha\"]/div[2]/div[1]/button[1]')\n",
        "        submit_but.click()\n",
        "\n",
        "        time.sleep(1)\n",
        "    except:\n",
        "        print('next')\n",
        "\n",
        "    # accept alert\n",
        "    try:\n",
        "        WebdriverWait(self.driver, 1).until(EC.alert_is_present())\n",
        "        alert = self.driver.switch_to.alert\n",
        "        alert.accept()\n",
        "    except:\n",
        "        print('')\n",
        "\n",
        "  def auto_KRS(self, matkul_kelas):\n",
        "    kode_prodi = self.driver.find_element(\"xpath\",'/html/body/div[6]/div[2]/div[2]/form/div/div[2]/div/div[4]/table/tbody/tr[2]/td[2]/div')\n",
        "    kode_prodi = kode_prodi.get_attribute(\"id\")[0]\n",
        "    print('kode prodi: ', kode_prodi)\n",
        "\n",
        "    while True:\n",
        "        for matkul, kelas in matkul_kelas:\n",
        "            print('kode matkul: ',matkul)\n",
        "            \n",
        "            try:\n",
        "                self.driver.execute_script(\"arguments[0].click();\", WebdriverWait(self.driver, 20).until(EC.element_to_be_clickable((By.XPATH, '//*[@id=\"{}_{}\"]/table[1]/tbody[1]/tr[{}]/td[1]/input[1]'.format(kode_prodi, matkul, kelas)))))\n",
        "                time.sleep(1)\n",
        "                self.captcha()\n",
        "\n",
        "                time.sleep(1)\n",
        "            except:\n",
        "                time.sleep(1)\n",
        "                self.driver.get(\"https://simaster.ugm.ac.id/sia_krs/input_krs/index1\")    "
      ],
      "metadata": {
        "id": "Oyr9beW88nTp"
      },
      "execution_count": null,
      "outputs": []
    },
    {
      "cell_type": "code",
      "source": [
        "username = 'defittri01'\n",
        "password = 'Inazuma1'\n",
        "matkul_kelas = [['TKSS213201',2],  ['TKSS213106',2]]\n",
        "\n",
        "auto_KRS = auto_KRS()\n",
        "auto_KRS.login(username, password)\n",
        "auto_KRS.display_login_capt()\n"
      ],
      "metadata": {
        "colab": {
          "base_uri": "https://localhost:8080/",
          "height": 170
        },
        "id": "3thYmRIg7goc",
        "outputId": "d159fe30-6416-4b5d-ead5-5984a2c178f8"
      },
      "execution_count": null,
      "outputs": [
        {
          "output_type": "stream",
          "name": "stderr",
          "text": [
            "/usr/local/lib/python3.7/dist-packages/ipykernel_launcher.py:28: DeprecationWarning: executable_path has been deprecated, please pass in a Service object\n"
          ]
        },
        {
          "output_type": "stream",
          "name": "stdout",
          "text": [
            "chrome is opened successfully\n"
          ]
        },
        {
          "output_type": "display_data",
          "data": {
            "text/plain": [
              "<Figure size 432x288 with 1 Axes>"
            ],
            "image/png": "[encoded data removed]"
          },
          "metadata": {
            "needs_background": "light"
          }
        }
      ]
    },
    {
      "cell_type": "code",
      "source": [
        "auto_KRS.solve_login_capt()\n",
        "auto_KRS.open_KRS_page()\n",
        "# auto_KRS(matkul_kelas)"
      ],
      "metadata": {
        "colab": {
          "base_uri": "https://localhost:8080/"
        },
        "id": "aeKYSxtdRDOP",
        "outputId": "4674a3dc-f249-40aa-9414-ec9066ea43f3"
      },
      "execution_count": null,
      "outputs": [
        {
          "name": "stdout",
          "output_type": "stream",
          "text": [
            "solve captcha: 5302\n"
          ]
        }
      ]
    },
    {
      "cell_type": "code",
      "source": [
        "auto_KRS.save_screenshot('simaster.png')"
      ],
      "metadata": {
        "id": "L96oocFPN1Vn"
      },
      "execution_count": null,
      "outputs": []
    },
    {
      "cell_type": "code",
      "source": [
        "auto_KRS.close()\n"
      ],
      "metadata": {
        "colab": {
          "base_uri": "https://localhost:8080/",
          "height": 165
        },
        "id": "7uFu67x84jgV",
        "outputId": "eb323635-a87f-4afb-e0a2-3c10f769e0fa"
      },
      "execution_count": null,
      "outputs": [
        {
          "output_type": "error",
          "ename": "TypeError",
          "evalue": "ignored",
          "traceback": [
            "\u001b[0;31m---------------------------------------------------------------------------\u001b[0m",
            "\u001b[0;31mTypeError\u001b[0m                                 Traceback (most recent call last)",
            "\u001b[0;32m<ipython-input-8-10aff33ceb81>\u001b[0m in \u001b[0;36m<module>\u001b[0;34m()\u001b[0m\n\u001b[0;32m----> 1\u001b[0;31m \u001b[0mauto_KRS\u001b[0m\u001b[0;34m.\u001b[0m\u001b[0mclose\u001b[0m\u001b[0;34m(\u001b[0m\u001b[0;34m)\u001b[0m\u001b[0;34m\u001b[0m\u001b[0;34m\u001b[0m\u001b[0m\n\u001b[0m",
            "\u001b[0;31mTypeError\u001b[0m: close() missing 1 required positional argument: 'self'"
          ]
        }
      ]
    }
  ]
}