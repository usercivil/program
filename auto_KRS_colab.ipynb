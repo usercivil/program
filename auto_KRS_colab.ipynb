{
  "nbformat": 4,
  "nbformat_minor": 0,
  "metadata": {
    "colab": {
      "name": "auto_KRS_colab.ipynb",
      "provenance": [],
      "collapsed_sections": [],
      "include_colab_link": true
    },
    "kernelspec": {
      "name": "python3",
      "display_name": "Python 3"
    },
    "language_info": {
      "name": "python"
    }
  },
  "cells": [
    {
      "cell_type": "markdown",
      "metadata": {
        "id": "view-in-github",
        "colab_type": "text"
      },
      "source": [
        "<a href=\"https://colab.research.google.com/github/defittri01/auto-KRS/blob/main/auto_KRS_colab.ipynb\" target=\"_parent\"><img src=\"https://colab.research.google.com/assets/colab-badge.svg\" alt=\"Open In Colab\"/></a>"
      ]
    },
    {
      "cell_type": "code",
      "execution_count": null,
      "metadata": {
        "id": "jMBYfRmB0fbO"
      },
      "outputs": [],
      "source": [
        "!pip install selenium &> /dev/null\n",
        "!apt-get update  &> /dev/null # to update ubuntu to correctly run apt install\n",
        "!apt install chromium-chromedriver &> /dev/null\n",
        "!cp /usr/lib/chromium-browser/chromedriver /usr/bin &> /dev/null\n",
        "\n",
        "!sudo apt install tesseract-ocr &> /dev/null\n",
        "!pip install pytesseract &> /dev/null\n",
        "!pip install Pillow==9.1.1 &> /dev/null\n",
        "!git clone https://github.com/defittri01/auto-KRS.git &> /dev/null\n",
        "\n",
        "%cd '/content/auto-KRS/'\n",
        "import auto_KRS"
      ]
    },
    {
      "cell_type": "code",
      "source": [
        "#author: Defit Tri H\n",
        "username = 'defittri01'\n",
        "password = 'Inazuma1'\n",
        "matkul_kelas = [['TKSS213201',2],  ['TKSS213106',2]]\n",
        "\n",
        "auto_KRS = auto_KRS.auto_KRS()\n",
        "auto_KRS.login(username, password)\n",
        "auto_KRS.display_login_capt()\n"
      ],
      "metadata": {
        "id": "3thYmRIg7goc"
      },
      "execution_count": null,
      "outputs": []
    },
    {
      "cell_type": "code",
      "source": [
        "auto_KRS.solve_login_capt()\n",
        "auto_KRS.open_KRS_page()\n",
        "# auto_KRS(matkul_kelas)"
      ],
      "metadata": {
        "colab": {
          "base_uri": "https://localhost:8080/"
        },
        "id": "aeKYSxtdRDOP",
        "outputId": "c5f87f0c-eda3-4dc2-fbd6-0503abe05f57"
      },
      "execution_count": null,
      "outputs": [
        {
          "name": "stdout",
          "output_type": "stream",
          "text": [
            "solve captcha: 556\n"
          ]
        }
      ]
    },
    {
      "cell_type": "code",
      "source": [
        "auto_KRS.save_screenshot('simaster.png')"
      ],
      "metadata": {
        "id": "L96oocFPN1Vn"
      },
      "execution_count": null,
      "outputs": []
    },
    {
      "cell_type": "code",
      "source": [
        "auto_KRS.close()\n"
      ],
      "metadata": {
        "id": "7uFu67x84jgV"
      },
      "execution_count": null,
      "outputs": []
    }
  ]
}